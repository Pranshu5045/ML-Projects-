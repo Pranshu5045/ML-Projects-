{
 "cells": [
  {
   "cell_type": "code",
   "execution_count": 2,
   "id": "dc182ed4",
   "metadata": {},
   "outputs": [],
   "source": [
    "import numpy as np\n",
    "import pandas as pd\n",
    "import matplotlib.pyplot as plt\n",
    "import seaborn as sns\n",
    "import evalml\n",
    "import warnings\n",
    "warnings.simplefilter('ignore')"
   ]
  },
  {
   "cell_type": "code",
   "execution_count": 3,
   "id": "3b197f78",
   "metadata": {},
   "outputs": [],
   "source": [
    "df=pd.read_csv(r'D:\\PDPU Assignments\\Data Mining\\DM Assignment 6\\diabetes.csv')"
   ]
  },
  {
   "cell_type": "code",
   "execution_count": 4,
   "id": "6d2a4371",
   "metadata": {},
   "outputs": [
    {
     "data": {
      "text/html": [
       "<div>\n",
       "<style scoped>\n",
       "    .dataframe tbody tr th:only-of-type {\n",
       "        vertical-align: middle;\n",
       "    }\n",
       "\n",
       "    .dataframe tbody tr th {\n",
       "        vertical-align: top;\n",
       "    }\n",
       "\n",
       "    .dataframe thead th {\n",
       "        text-align: right;\n",
       "    }\n",
       "</style>\n",
       "<table border=\"1\" class=\"dataframe\">\n",
       "  <thead>\n",
       "    <tr style=\"text-align: right;\">\n",
       "      <th></th>\n",
       "      <th>Pregnancies</th>\n",
       "      <th>Glucose</th>\n",
       "      <th>BloodPressure</th>\n",
       "      <th>SkinThickness</th>\n",
       "      <th>Insulin</th>\n",
       "      <th>BMI</th>\n",
       "      <th>DiabetesPedigreeFunction</th>\n",
       "      <th>Age</th>\n",
       "      <th>Outcome</th>\n",
       "    </tr>\n",
       "  </thead>\n",
       "  <tbody>\n",
       "    <tr>\n",
       "      <th>0</th>\n",
       "      <td>6</td>\n",
       "      <td>148</td>\n",
       "      <td>72</td>\n",
       "      <td>35</td>\n",
       "      <td>0</td>\n",
       "      <td>33.6</td>\n",
       "      <td>0.627</td>\n",
       "      <td>50</td>\n",
       "      <td>1</td>\n",
       "    </tr>\n",
       "    <tr>\n",
       "      <th>1</th>\n",
       "      <td>1</td>\n",
       "      <td>85</td>\n",
       "      <td>66</td>\n",
       "      <td>29</td>\n",
       "      <td>0</td>\n",
       "      <td>26.6</td>\n",
       "      <td>0.351</td>\n",
       "      <td>31</td>\n",
       "      <td>0</td>\n",
       "    </tr>\n",
       "    <tr>\n",
       "      <th>2</th>\n",
       "      <td>8</td>\n",
       "      <td>183</td>\n",
       "      <td>64</td>\n",
       "      <td>0</td>\n",
       "      <td>0</td>\n",
       "      <td>23.3</td>\n",
       "      <td>0.672</td>\n",
       "      <td>32</td>\n",
       "      <td>1</td>\n",
       "    </tr>\n",
       "    <tr>\n",
       "      <th>3</th>\n",
       "      <td>1</td>\n",
       "      <td>89</td>\n",
       "      <td>66</td>\n",
       "      <td>23</td>\n",
       "      <td>94</td>\n",
       "      <td>28.1</td>\n",
       "      <td>0.167</td>\n",
       "      <td>21</td>\n",
       "      <td>0</td>\n",
       "    </tr>\n",
       "    <tr>\n",
       "      <th>4</th>\n",
       "      <td>0</td>\n",
       "      <td>137</td>\n",
       "      <td>40</td>\n",
       "      <td>35</td>\n",
       "      <td>168</td>\n",
       "      <td>43.1</td>\n",
       "      <td>2.288</td>\n",
       "      <td>33</td>\n",
       "      <td>1</td>\n",
       "    </tr>\n",
       "    <tr>\n",
       "      <th>...</th>\n",
       "      <td>...</td>\n",
       "      <td>...</td>\n",
       "      <td>...</td>\n",
       "      <td>...</td>\n",
       "      <td>...</td>\n",
       "      <td>...</td>\n",
       "      <td>...</td>\n",
       "      <td>...</td>\n",
       "      <td>...</td>\n",
       "    </tr>\n",
       "    <tr>\n",
       "      <th>763</th>\n",
       "      <td>10</td>\n",
       "      <td>101</td>\n",
       "      <td>76</td>\n",
       "      <td>48</td>\n",
       "      <td>180</td>\n",
       "      <td>32.9</td>\n",
       "      <td>0.171</td>\n",
       "      <td>63</td>\n",
       "      <td>0</td>\n",
       "    </tr>\n",
       "    <tr>\n",
       "      <th>764</th>\n",
       "      <td>2</td>\n",
       "      <td>122</td>\n",
       "      <td>70</td>\n",
       "      <td>27</td>\n",
       "      <td>0</td>\n",
       "      <td>36.8</td>\n",
       "      <td>0.340</td>\n",
       "      <td>27</td>\n",
       "      <td>0</td>\n",
       "    </tr>\n",
       "    <tr>\n",
       "      <th>765</th>\n",
       "      <td>5</td>\n",
       "      <td>121</td>\n",
       "      <td>72</td>\n",
       "      <td>23</td>\n",
       "      <td>112</td>\n",
       "      <td>26.2</td>\n",
       "      <td>0.245</td>\n",
       "      <td>30</td>\n",
       "      <td>0</td>\n",
       "    </tr>\n",
       "    <tr>\n",
       "      <th>766</th>\n",
       "      <td>1</td>\n",
       "      <td>126</td>\n",
       "      <td>60</td>\n",
       "      <td>0</td>\n",
       "      <td>0</td>\n",
       "      <td>30.1</td>\n",
       "      <td>0.349</td>\n",
       "      <td>47</td>\n",
       "      <td>1</td>\n",
       "    </tr>\n",
       "    <tr>\n",
       "      <th>767</th>\n",
       "      <td>1</td>\n",
       "      <td>93</td>\n",
       "      <td>70</td>\n",
       "      <td>31</td>\n",
       "      <td>0</td>\n",
       "      <td>30.4</td>\n",
       "      <td>0.315</td>\n",
       "      <td>23</td>\n",
       "      <td>0</td>\n",
       "    </tr>\n",
       "  </tbody>\n",
       "</table>\n",
       "<p>768 rows × 9 columns</p>\n",
       "</div>"
      ],
      "text/plain": [
       "     Pregnancies  Glucose  BloodPressure  SkinThickness  Insulin   BMI  \\\n",
       "0              6      148             72             35        0  33.6   \n",
       "1              1       85             66             29        0  26.6   \n",
       "2              8      183             64              0        0  23.3   \n",
       "3              1       89             66             23       94  28.1   \n",
       "4              0      137             40             35      168  43.1   \n",
       "..           ...      ...            ...            ...      ...   ...   \n",
       "763           10      101             76             48      180  32.9   \n",
       "764            2      122             70             27        0  36.8   \n",
       "765            5      121             72             23      112  26.2   \n",
       "766            1      126             60              0        0  30.1   \n",
       "767            1       93             70             31        0  30.4   \n",
       "\n",
       "     DiabetesPedigreeFunction  Age  Outcome  \n",
       "0                       0.627   50        1  \n",
       "1                       0.351   31        0  \n",
       "2                       0.672   32        1  \n",
       "3                       0.167   21        0  \n",
       "4                       2.288   33        1  \n",
       "..                        ...  ...      ...  \n",
       "763                     0.171   63        0  \n",
       "764                     0.340   27        0  \n",
       "765                     0.245   30        0  \n",
       "766                     0.349   47        1  \n",
       "767                     0.315   23        0  \n",
       "\n",
       "[768 rows x 9 columns]"
      ]
     },
     "execution_count": 4,
     "metadata": {},
     "output_type": "execute_result"
    }
   ],
   "source": [
    "df"
   ]
  },
  {
   "cell_type": "code",
   "execution_count": 5,
   "id": "52d8a962",
   "metadata": {},
   "outputs": [],
   "source": [
    "x=df.drop('Outcome',axis=1)\n",
    "y=df['Outcome']"
   ]
  },
  {
   "cell_type": "code",
   "execution_count": 6,
   "id": "f5a75b6c",
   "metadata": {},
   "outputs": [
    {
     "data": {
      "text/plain": [
       "0    500\n",
       "1    268\n",
       "Name: Outcome, dtype: int64"
      ]
     },
     "execution_count": 6,
     "metadata": {},
     "output_type": "execute_result"
    }
   ],
   "source": [
    "df['Outcome'].value_counts()"
   ]
  },
  {
   "cell_type": "code",
   "execution_count": 7,
   "id": "bcd93128",
   "metadata": {},
   "outputs": [],
   "source": [
    "#data normalization\n",
    "x=(x-x.mean())/x.std()"
   ]
  },
  {
   "cell_type": "code",
   "execution_count": 8,
   "id": "12314da7",
   "metadata": {},
   "outputs": [],
   "source": [
    "from sklearn.model_selection import train_test_split\n",
    "xtrain,xtest,ytrain,ytest=train_test_split(x,y)"
   ]
  },
  {
   "cell_type": "code",
   "execution_count": 9,
   "id": "b1b2017b",
   "metadata": {},
   "outputs": [
    {
     "data": {
      "text/plain": [
       "(576, 8)"
      ]
     },
     "execution_count": 9,
     "metadata": {},
     "output_type": "execute_result"
    }
   ],
   "source": [
    "xtrain.shape"
   ]
  },
  {
   "cell_type": "markdown",
   "id": "abc7adf3",
   "metadata": {},
   "source": [
    "Creating a model without using automl"
   ]
  },
  {
   "cell_type": "code",
   "execution_count": 10,
   "id": "14eec092",
   "metadata": {},
   "outputs": [],
   "source": [
    "from sklearn.svm import SVC\n",
    "clf=SVC()\n",
    "clf.fit(xtrain,ytrain)\n",
    "pred=clf.predict(xtest)"
   ]
  },
  {
   "cell_type": "code",
   "execution_count": 11,
   "id": "9562a964",
   "metadata": {},
   "outputs": [
    {
     "data": {
      "text/plain": [
       "0.7864583333333334"
      ]
     },
     "execution_count": 11,
     "metadata": {},
     "output_type": "execute_result"
    }
   ],
   "source": [
    "from sklearn.metrics import accuracy_score,classification_report,confusion_matrix\n",
    "accuracy_score(ytest,pred)"
   ]
  },
  {
   "cell_type": "markdown",
   "id": "39649c8a",
   "metadata": {},
   "source": [
    "## AUTOML"
   ]
  },
  {
   "cell_type": "code",
   "execution_count": 12,
   "id": "e231f9e2",
   "metadata": {},
   "outputs": [],
   "source": [
    "from evalml.preprocessing import split_data\n",
    "xtrain,xtest,ytrain,ytest=split_data(x,y,problem_type='binary')"
   ]
  },
  {
   "cell_type": "code",
   "execution_count": 13,
   "id": "d92490d0",
   "metadata": {},
   "outputs": [
    {
     "data": {
      "text/plain": [
       "(614, 8)"
      ]
     },
     "execution_count": 13,
     "metadata": {},
     "output_type": "execute_result"
    }
   ],
   "source": [
    "xtrain.shape"
   ]
  },
  {
   "cell_type": "code",
   "execution_count": 14,
   "id": "5e505f67",
   "metadata": {},
   "outputs": [
    {
     "data": {
      "text/html": [
       "<div>\n",
       "<style scoped>\n",
       "    .dataframe tbody tr th:only-of-type {\n",
       "        vertical-align: middle;\n",
       "    }\n",
       "\n",
       "    .dataframe tbody tr th {\n",
       "        vertical-align: top;\n",
       "    }\n",
       "\n",
       "    .dataframe thead th {\n",
       "        text-align: right;\n",
       "    }\n",
       "</style>\n",
       "<table border=\"1\" class=\"dataframe\">\n",
       "  <thead>\n",
       "    <tr style=\"text-align: right;\">\n",
       "      <th></th>\n",
       "      <th>Pregnancies</th>\n",
       "      <th>Glucose</th>\n",
       "      <th>BloodPressure</th>\n",
       "      <th>SkinThickness</th>\n",
       "      <th>Insulin</th>\n",
       "      <th>BMI</th>\n",
       "      <th>DiabetesPedigreeFunction</th>\n",
       "      <th>Age</th>\n",
       "    </tr>\n",
       "  </thead>\n",
       "  <tbody>\n",
       "    <tr>\n",
       "      <th>22</th>\n",
       "      <td>0.936304</td>\n",
       "      <td>2.349056</td>\n",
       "      <td>1.079497</td>\n",
       "      <td>-1.287373</td>\n",
       "      <td>-0.692439</td>\n",
       "      <td>0.990267</td>\n",
       "      <td>-0.063008</td>\n",
       "      <td>0.659776</td>\n",
       "    </tr>\n",
       "    <tr>\n",
       "      <th>497</th>\n",
       "      <td>-0.547562</td>\n",
       "      <td>-1.247772</td>\n",
       "      <td>0.149543</td>\n",
       "      <td>-0.347065</td>\n",
       "      <td>-0.032969</td>\n",
       "      <td>-0.240048</td>\n",
       "      <td>0.226735</td>\n",
       "      <td>-0.700742</td>\n",
       "    </tr>\n",
       "    <tr>\n",
       "      <th>395</th>\n",
       "      <td>-0.547562</td>\n",
       "      <td>0.190959</td>\n",
       "      <td>-0.573754</td>\n",
       "      <td>0.217120</td>\n",
       "      <td>1.693802</td>\n",
       "      <td>-0.544456</td>\n",
       "      <td>3.404849</td>\n",
       "      <td>-0.700742</td>\n",
       "    </tr>\n",
       "    <tr>\n",
       "      <th>381</th>\n",
       "      <td>-1.141108</td>\n",
       "      <td>-0.497129</td>\n",
       "      <td>-0.057113</td>\n",
       "      <td>0.091745</td>\n",
       "      <td>-0.692439</td>\n",
       "      <td>-1.521098</td>\n",
       "      <td>-0.711910</td>\n",
       "      <td>-0.955839</td>\n",
       "    </tr>\n",
       "    <tr>\n",
       "      <th>258</th>\n",
       "      <td>-0.844335</td>\n",
       "      <td>2.255226</td>\n",
       "      <td>-0.987066</td>\n",
       "      <td>-0.284378</td>\n",
       "      <td>2.561526</td>\n",
       "      <td>-0.772762</td>\n",
       "      <td>0.552695</td>\n",
       "      <td>-0.785774</td>\n",
       "    </tr>\n",
       "    <tr>\n",
       "      <th>...</th>\n",
       "      <td>...</td>\n",
       "      <td>...</td>\n",
       "      <td>...</td>\n",
       "      <td>...</td>\n",
       "      <td>...</td>\n",
       "      <td>...</td>\n",
       "      <td>...</td>\n",
       "      <td>...</td>\n",
       "    </tr>\n",
       "    <tr>\n",
       "      <th>456</th>\n",
       "      <td>-0.844335</td>\n",
       "      <td>0.441173</td>\n",
       "      <td>-0.780410</td>\n",
       "      <td>-1.287373</td>\n",
       "      <td>-0.692439</td>\n",
       "      <td>-0.671293</td>\n",
       "      <td>0.649276</td>\n",
       "      <td>2.445455</td>\n",
       "    </tr>\n",
       "    <tr>\n",
       "      <th>435</th>\n",
       "      <td>-1.141108</td>\n",
       "      <td>0.628834</td>\n",
       "      <td>-3.570271</td>\n",
       "      <td>-1.287373</td>\n",
       "      <td>-0.692439</td>\n",
       "      <td>1.320042</td>\n",
       "      <td>-0.805473</td>\n",
       "      <td>-0.360612</td>\n",
       "    </tr>\n",
       "    <tr>\n",
       "      <th>398</th>\n",
       "      <td>-0.250789</td>\n",
       "      <td>-1.216495</td>\n",
       "      <td>0.046215</td>\n",
       "      <td>-1.287373</td>\n",
       "      <td>-0.692439</td>\n",
       "      <td>-1.381577</td>\n",
       "      <td>-0.250133</td>\n",
       "      <td>-0.700742</td>\n",
       "    </tr>\n",
       "    <tr>\n",
       "      <th>48</th>\n",
       "      <td>0.936304</td>\n",
       "      <td>-0.559683</td>\n",
       "      <td>-0.160441</td>\n",
       "      <td>0.718617</td>\n",
       "      <td>-0.692439</td>\n",
       "      <td>0.901481</td>\n",
       "      <td>-0.385950</td>\n",
       "      <td>-0.190548</td>\n",
       "    </tr>\n",
       "    <tr>\n",
       "      <th>294</th>\n",
       "      <td>-1.141108</td>\n",
       "      <td>1.254369</td>\n",
       "      <td>-0.987066</td>\n",
       "      <td>-1.287373</td>\n",
       "      <td>-0.692439</td>\n",
       "      <td>-1.280108</td>\n",
       "      <td>-0.657584</td>\n",
       "      <td>2.700552</td>\n",
       "    </tr>\n",
       "  </tbody>\n",
       "</table>\n",
       "<p>614 rows × 8 columns</p>\n",
       "</div>"
      ],
      "text/plain": [
       "     Pregnancies   Glucose  BloodPressure  SkinThickness   Insulin       BMI  \\\n",
       "22      0.936304  2.349056       1.079497      -1.287373 -0.692439  0.990267   \n",
       "497    -0.547562 -1.247772       0.149543      -0.347065 -0.032969 -0.240048   \n",
       "395    -0.547562  0.190959      -0.573754       0.217120  1.693802 -0.544456   \n",
       "381    -1.141108 -0.497129      -0.057113       0.091745 -0.692439 -1.521098   \n",
       "258    -0.844335  2.255226      -0.987066      -0.284378  2.561526 -0.772762   \n",
       "..           ...       ...            ...            ...       ...       ...   \n",
       "456    -0.844335  0.441173      -0.780410      -1.287373 -0.692439 -0.671293   \n",
       "435    -1.141108  0.628834      -3.570271      -1.287373 -0.692439  1.320042   \n",
       "398    -0.250789 -1.216495       0.046215      -1.287373 -0.692439 -1.381577   \n",
       "48      0.936304 -0.559683      -0.160441       0.718617 -0.692439  0.901481   \n",
       "294    -1.141108  1.254369      -0.987066      -1.287373 -0.692439 -1.280108   \n",
       "\n",
       "     DiabetesPedigreeFunction       Age  \n",
       "22                  -0.063008  0.659776  \n",
       "497                  0.226735 -0.700742  \n",
       "395                  3.404849 -0.700742  \n",
       "381                 -0.711910 -0.955839  \n",
       "258                  0.552695 -0.785774  \n",
       "..                        ...       ...  \n",
       "456                  0.649276  2.445455  \n",
       "435                 -0.805473 -0.360612  \n",
       "398                 -0.250133 -0.700742  \n",
       "48                  -0.385950 -0.190548  \n",
       "294                 -0.657584  2.700552  \n",
       "\n",
       "[614 rows x 8 columns]"
      ]
     },
     "execution_count": 14,
     "metadata": {},
     "output_type": "execute_result"
    }
   ],
   "source": [
    "xtrain"
   ]
  },
  {
   "cell_type": "code",
   "execution_count": 16,
   "id": "a708c760",
   "metadata": {},
   "outputs": [
    {
     "name": "stderr",
     "output_type": "stream",
     "text": [
      "WARNING:evalml.automl.automl_search:\tHigh coefficient of variation (cv >= 0.5) within cross validation scores.\n",
      "\tDecision Tree Classifier w/ Label Encoder + Replace Nullable Types Transformer + Imputer + Select Columns Transformer may not perform as estimated on unseen data.\n"
     ]
    },
    {
     "data": {
      "text/plain": [
       "{1: {'Logistic Regression Classifier w/ Label Encoder + Replace Nullable Types Transformer + Imputer + Standard Scaler': '00:01',\n",
       "  'Random Forest Classifier w/ Label Encoder + Replace Nullable Types Transformer + Imputer': '00:01',\n",
       "  'Total time of batch': '00:03'},\n",
       " 2: {'Logistic Regression Classifier w/ Label Encoder + Replace Nullable Types Transformer + Imputer + Standard Scaler + RF Classifier Select From Model': '00:01',\n",
       "  'Random Forest Classifier w/ Label Encoder + Replace Nullable Types Transformer + Imputer + RF Classifier Select From Model': '00:01',\n",
       "  'Total time of batch': '00:03'},\n",
       " 3: {'Decision Tree Classifier w/ Label Encoder + Replace Nullable Types Transformer + Imputer + Select Columns Transformer': '00:00',\n",
       "  'LightGBM Classifier w/ Label Encoder + Replace Nullable Types Transformer + Imputer + Select Columns Transformer': '00:01',\n",
       "  'Extra Trees Classifier w/ Label Encoder + Replace Nullable Types Transformer + Imputer + Select Columns Transformer': '00:01',\n",
       "  'Elastic Net Classifier w/ Label Encoder + Replace Nullable Types Transformer + Imputer + Standard Scaler + Select Columns Transformer': '00:00',\n",
       "  'CatBoost Classifier w/ Label Encoder + Replace Nullable Types Transformer + Imputer + Select Columns Transformer': '00:01',\n",
       "  'XGBoost Classifier w/ Label Encoder + Replace Nullable Types Transformer + Imputer + Select Columns Transformer': '00:01',\n",
       "  'Total time of batch': '00:07'}}"
      ]
     },
     "execution_count": 16,
     "metadata": {},
     "output_type": "execute_result"
    }
   ],
   "source": [
    "from evalml.automl import AutoMLSearch\n",
    "auto=AutoMLSearch(xtrain,ytrain,problem_type='binary')\n",
    "auto.search()"
   ]
  },
  {
   "cell_type": "code",
   "execution_count": 17,
   "id": "d7541c9a",
   "metadata": {},
   "outputs": [
    {
     "data": {
      "text/html": [
       "<div>\n",
       "<style scoped>\n",
       "    .dataframe tbody tr th:only-of-type {\n",
       "        vertical-align: middle;\n",
       "    }\n",
       "\n",
       "    .dataframe tbody tr th {\n",
       "        vertical-align: top;\n",
       "    }\n",
       "\n",
       "    .dataframe thead th {\n",
       "        text-align: right;\n",
       "    }\n",
       "</style>\n",
       "<table border=\"1\" class=\"dataframe\">\n",
       "  <thead>\n",
       "    <tr style=\"text-align: right;\">\n",
       "      <th></th>\n",
       "      <th>id</th>\n",
       "      <th>pipeline_name</th>\n",
       "      <th>search_order</th>\n",
       "      <th>validation_score</th>\n",
       "      <th>mean_cv_score</th>\n",
       "      <th>standard_deviation_cv_score</th>\n",
       "      <th>percent_better_than_baseline</th>\n",
       "      <th>high_variance_cv</th>\n",
       "      <th>parameters</th>\n",
       "    </tr>\n",
       "  </thead>\n",
       "  <tbody>\n",
       "    <tr>\n",
       "      <th>0</th>\n",
       "      <td>7</td>\n",
       "      <td>Extra Trees Classifier w/ Label Encoder + Repl...</td>\n",
       "      <td>7</td>\n",
       "      <td>0.504895</td>\n",
       "      <td>0.504895</td>\n",
       "      <td>0.008812</td>\n",
       "      <td>95.805797</td>\n",
       "      <td>False</td>\n",
       "      <td>{'Label Encoder': {'positive_label': None}, 'I...</td>\n",
       "    </tr>\n",
       "    <tr>\n",
       "      <th>1</th>\n",
       "      <td>4</td>\n",
       "      <td>Random Forest Classifier w/ Label Encoder + Re...</td>\n",
       "      <td>4</td>\n",
       "      <td>0.505524</td>\n",
       "      <td>0.505524</td>\n",
       "      <td>0.013612</td>\n",
       "      <td>95.800571</td>\n",
       "      <td>False</td>\n",
       "      <td>{'Label Encoder': {'positive_label': None}, 'I...</td>\n",
       "    </tr>\n",
       "    <tr>\n",
       "      <th>2</th>\n",
       "      <td>8</td>\n",
       "      <td>Elastic Net Classifier w/ Label Encoder + Repl...</td>\n",
       "      <td>8</td>\n",
       "      <td>0.509015</td>\n",
       "      <td>0.509015</td>\n",
       "      <td>0.015441</td>\n",
       "      <td>95.771566</td>\n",
       "      <td>False</td>\n",
       "      <td>{'Label Encoder': {'positive_label': None}, 'I...</td>\n",
       "    </tr>\n",
       "    <tr>\n",
       "      <th>3</th>\n",
       "      <td>2</td>\n",
       "      <td>Random Forest Classifier w/ Label Encoder + Re...</td>\n",
       "      <td>2</td>\n",
       "      <td>0.509457</td>\n",
       "      <td>0.509457</td>\n",
       "      <td>0.010550</td>\n",
       "      <td>95.767901</td>\n",
       "      <td>False</td>\n",
       "      <td>{'Label Encoder': {'positive_label': None}, 'I...</td>\n",
       "    </tr>\n",
       "    <tr>\n",
       "      <th>4</th>\n",
       "      <td>3</td>\n",
       "      <td>Logistic Regression Classifier w/ Label Encode...</td>\n",
       "      <td>3</td>\n",
       "      <td>0.513611</td>\n",
       "      <td>0.513611</td>\n",
       "      <td>0.008336</td>\n",
       "      <td>95.733394</td>\n",
       "      <td>False</td>\n",
       "      <td>{'Label Encoder': {'positive_label': None}, 'I...</td>\n",
       "    </tr>\n",
       "    <tr>\n",
       "      <th>5</th>\n",
       "      <td>1</td>\n",
       "      <td>Logistic Regression Classifier w/ Label Encode...</td>\n",
       "      <td>1</td>\n",
       "      <td>0.514688</td>\n",
       "      <td>0.514688</td>\n",
       "      <td>0.012160</td>\n",
       "      <td>95.724441</td>\n",
       "      <td>False</td>\n",
       "      <td>{'Label Encoder': {'positive_label': None}, 'I...</td>\n",
       "    </tr>\n",
       "    <tr>\n",
       "      <th>6</th>\n",
       "      <td>9</td>\n",
       "      <td>CatBoost Classifier w/ Label Encoder + Replace...</td>\n",
       "      <td>9</td>\n",
       "      <td>0.643040</td>\n",
       "      <td>0.643040</td>\n",
       "      <td>0.000278</td>\n",
       "      <td>94.658210</td>\n",
       "      <td>False</td>\n",
       "      <td>{'Label Encoder': {'positive_label': None}, 'I...</td>\n",
       "    </tr>\n",
       "    <tr>\n",
       "      <th>7</th>\n",
       "      <td>10</td>\n",
       "      <td>XGBoost Classifier w/ Label Encoder + Replace ...</td>\n",
       "      <td>10</td>\n",
       "      <td>0.656868</td>\n",
       "      <td>0.656868</td>\n",
       "      <td>0.017256</td>\n",
       "      <td>94.543338</td>\n",
       "      <td>False</td>\n",
       "      <td>{'Label Encoder': {'positive_label': None}, 'I...</td>\n",
       "    </tr>\n",
       "    <tr>\n",
       "      <th>8</th>\n",
       "      <td>6</td>\n",
       "      <td>LightGBM Classifier w/ Label Encoder + Replace...</td>\n",
       "      <td>6</td>\n",
       "      <td>0.663082</td>\n",
       "      <td>0.663082</td>\n",
       "      <td>0.036739</td>\n",
       "      <td>94.491718</td>\n",
       "      <td>False</td>\n",
       "      <td>{'Label Encoder': {'positive_label': None}, 'I...</td>\n",
       "    </tr>\n",
       "    <tr>\n",
       "      <th>9</th>\n",
       "      <td>5</td>\n",
       "      <td>Decision Tree Classifier w/ Label Encoder + Re...</td>\n",
       "      <td>5</td>\n",
       "      <td>4.564685</td>\n",
       "      <td>4.564685</td>\n",
       "      <td>1.318751</td>\n",
       "      <td>62.080771</td>\n",
       "      <td>True</td>\n",
       "      <td>{'Label Encoder': {'positive_label': None}, 'I...</td>\n",
       "    </tr>\n",
       "    <tr>\n",
       "      <th>10</th>\n",
       "      <td>0</td>\n",
       "      <td>Mode Baseline Binary Classification Pipeline</td>\n",
       "      <td>0</td>\n",
       "      <td>12.037917</td>\n",
       "      <td>12.037917</td>\n",
       "      <td>0.085528</td>\n",
       "      <td>0.000000</td>\n",
       "      <td>False</td>\n",
       "      <td>{'Label Encoder': {'positive_label': None}, 'B...</td>\n",
       "    </tr>\n",
       "  </tbody>\n",
       "</table>\n",
       "</div>"
      ],
      "text/plain": [
       "    id                                      pipeline_name  search_order  \\\n",
       "0    7  Extra Trees Classifier w/ Label Encoder + Repl...             7   \n",
       "1    4  Random Forest Classifier w/ Label Encoder + Re...             4   \n",
       "2    8  Elastic Net Classifier w/ Label Encoder + Repl...             8   \n",
       "3    2  Random Forest Classifier w/ Label Encoder + Re...             2   \n",
       "4    3  Logistic Regression Classifier w/ Label Encode...             3   \n",
       "5    1  Logistic Regression Classifier w/ Label Encode...             1   \n",
       "6    9  CatBoost Classifier w/ Label Encoder + Replace...             9   \n",
       "7   10  XGBoost Classifier w/ Label Encoder + Replace ...            10   \n",
       "8    6  LightGBM Classifier w/ Label Encoder + Replace...             6   \n",
       "9    5  Decision Tree Classifier w/ Label Encoder + Re...             5   \n",
       "10   0       Mode Baseline Binary Classification Pipeline             0   \n",
       "\n",
       "    validation_score  mean_cv_score  standard_deviation_cv_score  \\\n",
       "0           0.504895       0.504895                     0.008812   \n",
       "1           0.505524       0.505524                     0.013612   \n",
       "2           0.509015       0.509015                     0.015441   \n",
       "3           0.509457       0.509457                     0.010550   \n",
       "4           0.513611       0.513611                     0.008336   \n",
       "5           0.514688       0.514688                     0.012160   \n",
       "6           0.643040       0.643040                     0.000278   \n",
       "7           0.656868       0.656868                     0.017256   \n",
       "8           0.663082       0.663082                     0.036739   \n",
       "9           4.564685       4.564685                     1.318751   \n",
       "10         12.037917      12.037917                     0.085528   \n",
       "\n",
       "    percent_better_than_baseline  high_variance_cv  \\\n",
       "0                      95.805797             False   \n",
       "1                      95.800571             False   \n",
       "2                      95.771566             False   \n",
       "3                      95.767901             False   \n",
       "4                      95.733394             False   \n",
       "5                      95.724441             False   \n",
       "6                      94.658210             False   \n",
       "7                      94.543338             False   \n",
       "8                      94.491718             False   \n",
       "9                      62.080771              True   \n",
       "10                      0.000000             False   \n",
       "\n",
       "                                           parameters  \n",
       "0   {'Label Encoder': {'positive_label': None}, 'I...  \n",
       "1   {'Label Encoder': {'positive_label': None}, 'I...  \n",
       "2   {'Label Encoder': {'positive_label': None}, 'I...  \n",
       "3   {'Label Encoder': {'positive_label': None}, 'I...  \n",
       "4   {'Label Encoder': {'positive_label': None}, 'I...  \n",
       "5   {'Label Encoder': {'positive_label': None}, 'I...  \n",
       "6   {'Label Encoder': {'positive_label': None}, 'I...  \n",
       "7   {'Label Encoder': {'positive_label': None}, 'I...  \n",
       "8   {'Label Encoder': {'positive_label': None}, 'I...  \n",
       "9   {'Label Encoder': {'positive_label': None}, 'I...  \n",
       "10  {'Label Encoder': {'positive_label': None}, 'B...  "
      ]
     },
     "execution_count": 17,
     "metadata": {},
     "output_type": "execute_result"
    }
   ],
   "source": [
    "auto.rankings"
   ]
  },
  {
   "cell_type": "code",
   "execution_count": 18,
   "id": "fe198e7d",
   "metadata": {},
   "outputs": [
    {
     "name": "stdout",
     "output_type": "stream",
     "text": [
      "\n",
      "***********************************************************************************************************************\n"
     ]
    },
    {
     "name": "stderr",
     "output_type": "stream",
     "text": [
      "INFO:evalml.pipelines.pipeline_base.describe:\n",
      "***********************************************************************************************************************\n"
     ]
    },
    {
     "name": "stdout",
     "output_type": "stream",
     "text": [
      "* Extra Trees Classifier w/ Label Encoder + Replace Nullable Types Transformer + Imputer + Select Columns Transformer *\n"
     ]
    },
    {
     "name": "stderr",
     "output_type": "stream",
     "text": [
      "INFO:evalml.pipelines.pipeline_base.describe:* Extra Trees Classifier w/ Label Encoder + Replace Nullable Types Transformer + Imputer + Select Columns Transformer *\n"
     ]
    },
    {
     "name": "stdout",
     "output_type": "stream",
     "text": [
      "***********************************************************************************************************************\n"
     ]
    },
    {
     "name": "stderr",
     "output_type": "stream",
     "text": [
      "INFO:evalml.pipelines.pipeline_base.describe:***********************************************************************************************************************\n"
     ]
    },
    {
     "name": "stdout",
     "output_type": "stream",
     "text": [
      "\n"
     ]
    },
    {
     "name": "stderr",
     "output_type": "stream",
     "text": [
      "INFO:evalml.pipelines.pipeline_base.describe:\n"
     ]
    },
    {
     "name": "stdout",
     "output_type": "stream",
     "text": [
      "Problem Type: binary\n"
     ]
    },
    {
     "name": "stderr",
     "output_type": "stream",
     "text": [
      "INFO:evalml.pipelines.pipeline_base.describe:Problem Type: binary\n"
     ]
    },
    {
     "name": "stdout",
     "output_type": "stream",
     "text": [
      "Model Family: Extra Trees\n"
     ]
    },
    {
     "name": "stderr",
     "output_type": "stream",
     "text": [
      "INFO:evalml.pipelines.pipeline_base.describe:Model Family: Extra Trees\n"
     ]
    },
    {
     "name": "stdout",
     "output_type": "stream",
     "text": [
      "\n"
     ]
    },
    {
     "name": "stderr",
     "output_type": "stream",
     "text": [
      "INFO:evalml.pipelines.pipeline_base.describe:\n"
     ]
    },
    {
     "name": "stdout",
     "output_type": "stream",
     "text": [
      "Pipeline Steps\n"
     ]
    },
    {
     "name": "stderr",
     "output_type": "stream",
     "text": [
      "INFO:evalml.pipelines.pipeline_base.describe:Pipeline Steps\n"
     ]
    },
    {
     "name": "stdout",
     "output_type": "stream",
     "text": [
      "==============\n"
     ]
    },
    {
     "name": "stderr",
     "output_type": "stream",
     "text": [
      "INFO:evalml.pipelines.pipeline_base.describe:==============\n"
     ]
    },
    {
     "name": "stdout",
     "output_type": "stream",
     "text": [
      "1. Label Encoder\n"
     ]
    },
    {
     "name": "stderr",
     "output_type": "stream",
     "text": [
      "INFO:evalml.pipelines.component_graph.describe:1. Label Encoder\n"
     ]
    },
    {
     "name": "stdout",
     "output_type": "stream",
     "text": [
      "\t * positive_label : None\n"
     ]
    },
    {
     "name": "stderr",
     "output_type": "stream",
     "text": [
      "INFO:evalml.pipelines.components.component_base.describe:\t * positive_label : None\n"
     ]
    },
    {
     "name": "stdout",
     "output_type": "stream",
     "text": [
      "2. Replace Nullable Types Transformer\n"
     ]
    },
    {
     "name": "stderr",
     "output_type": "stream",
     "text": [
      "INFO:evalml.pipelines.component_graph.describe:2. Replace Nullable Types Transformer\n"
     ]
    },
    {
     "name": "stdout",
     "output_type": "stream",
     "text": [
      "3. Imputer\n"
     ]
    },
    {
     "name": "stderr",
     "output_type": "stream",
     "text": [
      "INFO:evalml.pipelines.component_graph.describe:3. Imputer\n"
     ]
    },
    {
     "name": "stdout",
     "output_type": "stream",
     "text": [
      "\t * categorical_impute_strategy : most_frequent\n"
     ]
    },
    {
     "name": "stderr",
     "output_type": "stream",
     "text": [
      "INFO:evalml.pipelines.components.component_base.describe:\t * categorical_impute_strategy : most_frequent\n"
     ]
    },
    {
     "name": "stdout",
     "output_type": "stream",
     "text": [
      "\t * numeric_impute_strategy : mean\n"
     ]
    },
    {
     "name": "stderr",
     "output_type": "stream",
     "text": [
      "INFO:evalml.pipelines.components.component_base.describe:\t * numeric_impute_strategy : mean\n"
     ]
    },
    {
     "name": "stdout",
     "output_type": "stream",
     "text": [
      "\t * boolean_impute_strategy : most_frequent\n"
     ]
    },
    {
     "name": "stderr",
     "output_type": "stream",
     "text": [
      "INFO:evalml.pipelines.components.component_base.describe:\t * boolean_impute_strategy : most_frequent\n"
     ]
    },
    {
     "name": "stdout",
     "output_type": "stream",
     "text": [
      "\t * categorical_fill_value : None\n"
     ]
    },
    {
     "name": "stderr",
     "output_type": "stream",
     "text": [
      "INFO:evalml.pipelines.components.component_base.describe:\t * categorical_fill_value : None\n"
     ]
    },
    {
     "name": "stdout",
     "output_type": "stream",
     "text": [
      "\t * numeric_fill_value : None\n"
     ]
    },
    {
     "name": "stderr",
     "output_type": "stream",
     "text": [
      "INFO:evalml.pipelines.components.component_base.describe:\t * numeric_fill_value : None\n"
     ]
    },
    {
     "name": "stdout",
     "output_type": "stream",
     "text": [
      "\t * boolean_fill_value : None\n"
     ]
    },
    {
     "name": "stderr",
     "output_type": "stream",
     "text": [
      "INFO:evalml.pipelines.components.component_base.describe:\t * boolean_fill_value : None\n"
     ]
    },
    {
     "name": "stdout",
     "output_type": "stream",
     "text": [
      "4. Select Columns Transformer\n"
     ]
    },
    {
     "name": "stderr",
     "output_type": "stream",
     "text": [
      "INFO:evalml.pipelines.component_graph.describe:4. Select Columns Transformer\n"
     ]
    },
    {
     "name": "stdout",
     "output_type": "stream",
     "text": [
      "\t * columns : ['Glucose', 'BMI', 'DiabetesPedigreeFunction', 'Age']\n"
     ]
    },
    {
     "name": "stderr",
     "output_type": "stream",
     "text": [
      "INFO:evalml.pipelines.components.component_base.describe:\t * columns : ['Glucose', 'BMI', 'DiabetesPedigreeFunction', 'Age']\n"
     ]
    },
    {
     "name": "stdout",
     "output_type": "stream",
     "text": [
      "5. Extra Trees Classifier\n"
     ]
    },
    {
     "name": "stderr",
     "output_type": "stream",
     "text": [
      "INFO:evalml.pipelines.component_graph.describe:5. Extra Trees Classifier\n"
     ]
    },
    {
     "name": "stdout",
     "output_type": "stream",
     "text": [
      "\t * n_estimators : 100\n"
     ]
    },
    {
     "name": "stderr",
     "output_type": "stream",
     "text": [
      "INFO:evalml.pipelines.components.component_base.describe:\t * n_estimators : 100\n"
     ]
    },
    {
     "name": "stdout",
     "output_type": "stream",
     "text": [
      "\t * max_features : auto\n"
     ]
    },
    {
     "name": "stderr",
     "output_type": "stream",
     "text": [
      "INFO:evalml.pipelines.components.component_base.describe:\t * max_features : auto\n"
     ]
    },
    {
     "name": "stdout",
     "output_type": "stream",
     "text": [
      "\t * max_depth : 6\n"
     ]
    },
    {
     "name": "stderr",
     "output_type": "stream",
     "text": [
      "INFO:evalml.pipelines.components.component_base.describe:\t * max_depth : 6\n"
     ]
    },
    {
     "name": "stdout",
     "output_type": "stream",
     "text": [
      "\t * min_samples_split : 2\n"
     ]
    },
    {
     "name": "stderr",
     "output_type": "stream",
     "text": [
      "INFO:evalml.pipelines.components.component_base.describe:\t * min_samples_split : 2\n"
     ]
    },
    {
     "name": "stdout",
     "output_type": "stream",
     "text": [
      "\t * min_weight_fraction_leaf : 0.0\n"
     ]
    },
    {
     "name": "stderr",
     "output_type": "stream",
     "text": [
      "INFO:evalml.pipelines.components.component_base.describe:\t * min_weight_fraction_leaf : 0.0\n"
     ]
    },
    {
     "name": "stdout",
     "output_type": "stream",
     "text": [
      "\t * n_jobs : -1\n"
     ]
    },
    {
     "name": "stderr",
     "output_type": "stream",
     "text": [
      "INFO:evalml.pipelines.components.component_base.describe:\t * n_jobs : -1\n"
     ]
    },
    {
     "name": "stdout",
     "output_type": "stream",
     "text": [
      "\n"
     ]
    },
    {
     "name": "stderr",
     "output_type": "stream",
     "text": [
      "INFO:evalml.automl.automl_search.describe_pipeline:\n"
     ]
    },
    {
     "name": "stdout",
     "output_type": "stream",
     "text": [
      "Training\n"
     ]
    },
    {
     "name": "stderr",
     "output_type": "stream",
     "text": [
      "INFO:evalml.automl.automl_search.describe_pipeline:Training\n"
     ]
    },
    {
     "name": "stdout",
     "output_type": "stream",
     "text": [
      "========\n"
     ]
    },
    {
     "name": "stderr",
     "output_type": "stream",
     "text": [
      "INFO:evalml.automl.automl_search.describe_pipeline:========\n"
     ]
    },
    {
     "name": "stdout",
     "output_type": "stream",
     "text": [
      "Training for binary problems.\n"
     ]
    },
    {
     "name": "stderr",
     "output_type": "stream",
     "text": [
      "INFO:evalml.automl.automl_search.describe_pipeline:Training for binary problems.\n"
     ]
    },
    {
     "name": "stdout",
     "output_type": "stream",
     "text": [
      "Total training time (including CV): 1.2 seconds\n"
     ]
    },
    {
     "name": "stderr",
     "output_type": "stream",
     "text": [
      "INFO:evalml.automl.automl_search.describe_pipeline:Total training time (including CV): 1.2 seconds\n"
     ]
    },
    {
     "name": "stdout",
     "output_type": "stream",
     "text": [
      "\n"
     ]
    },
    {
     "name": "stderr",
     "output_type": "stream",
     "text": [
      "INFO:evalml.automl.automl_search.describe_pipeline:\n"
     ]
    },
    {
     "name": "stdout",
     "output_type": "stream",
     "text": [
      "Cross Validation\n"
     ]
    },
    {
     "name": "stderr",
     "output_type": "stream",
     "text": [
      "INFO:evalml.automl.automl_search.describe_pipeline:Cross Validation\n"
     ]
    },
    {
     "name": "stdout",
     "output_type": "stream",
     "text": [
      "----------------\n"
     ]
    },
    {
     "name": "stderr",
     "output_type": "stream",
     "text": [
      "INFO:evalml.automl.automl_search.describe_pipeline:----------------\n"
     ]
    },
    {
     "name": "stdout",
     "output_type": "stream",
     "text": [
      "             Log Loss Binary  MCC Binary  Gini   AUC  Precision    F1  Balanced Accuracy Binary  Accuracy Binary # Training # Validation\n",
      "0                      0.514       0.464 0.626 0.813      0.589 0.671                     0.742            0.732        409          205\n",
      "1                      0.496       0.414 0.654 0.827      0.504 0.643                     0.712            0.659        409          205\n",
      "2                      0.505       0.518 0.682 0.841      0.643 0.697                     0.767            0.770        410          204\n",
      "mean                   0.505       0.465 0.654 0.827      0.579 0.670                     0.741            0.720          -            -\n",
      "std                    0.009       0.052 0.028 0.014      0.070 0.027                     0.028            0.056          -            -\n",
      "coef of var            0.017       0.111 0.043 0.017      0.121 0.040                     0.037            0.078          -            -\n"
     ]
    },
    {
     "name": "stderr",
     "output_type": "stream",
     "text": [
      "INFO:evalml.automl.automl_search.describe_pipeline:             Log Loss Binary  MCC Binary  Gini   AUC  Precision    F1  Balanced Accuracy Binary  Accuracy Binary # Training # Validation\n",
      "0                      0.514       0.464 0.626 0.813      0.589 0.671                     0.742            0.732        409          205\n",
      "1                      0.496       0.414 0.654 0.827      0.504 0.643                     0.712            0.659        409          205\n",
      "2                      0.505       0.518 0.682 0.841      0.643 0.697                     0.767            0.770        410          204\n",
      "mean                   0.505       0.465 0.654 0.827      0.579 0.670                     0.741            0.720          -            -\n",
      "std                    0.009       0.052 0.028 0.014      0.070 0.027                     0.028            0.056          -            -\n",
      "coef of var            0.017       0.111 0.043 0.017      0.121 0.040                     0.037            0.078          -            -\n"
     ]
    }
   ],
   "source": [
    "auto.describe_pipeline(auto.rankings['id'][0])"
   ]
  },
  {
   "cell_type": "code",
   "execution_count": 19,
   "id": "90daac9f",
   "metadata": {},
   "outputs": [],
   "source": [
    "best=auto.best_pipeline"
   ]
  },
  {
   "cell_type": "code",
   "execution_count": 20,
   "id": "5509c06d",
   "metadata": {},
   "outputs": [
    {
     "data": {
      "text/plain": [
       "OrderedDict([('AUC', 0.8609259259259259),\n",
       "             ('Precision', 0.6825396825396826),\n",
       "             ('Recall', 0.7962962962962963),\n",
       "             ('F1', 0.735042735042735)])"
      ]
     },
     "execution_count": 20,
     "metadata": {},
     "output_type": "execute_result"
    }
   ],
   "source": [
    "best.score(xtest,ytest,objectives=['auc','precision','recall','f1'])"
   ]
  },
  {
   "cell_type": "code",
   "execution_count": 21,
   "id": "48e265b0",
   "metadata": {},
   "outputs": [
    {
     "data": {
      "image/svg+xml": [
       "<?xml version=\"1.0\" encoding=\"UTF-8\" standalone=\"no\"?>\n",
       "<!DOCTYPE svg PUBLIC \"-//W3C//DTD SVG 1.1//EN\"\n",
       " \"http://www.w3.org/Graphics/SVG/1.1/DTD/svg11.dtd\">\n",
       "<!-- Generated by graphviz version 2.50.0 (0)\n",
       " -->\n",
       "<!-- Pages: 1 -->\n",
       "<svg width=\"1386pt\" height=\"231pt\"\n",
       " viewBox=\"0.00 0.00 1386.00 231.00\" xmlns=\"http://www.w3.org/2000/svg\" xmlns:xlink=\"http://www.w3.org/1999/xlink\">\n",
       "<g id=\"graph0\" class=\"graph\" transform=\"scale(1 1) rotate(0) translate(4 227)\">\n",
       "<polygon fill=\"white\" stroke=\"transparent\" points=\"-4,4 -4,-227 1382,-227 1382,4 -4,4\"/>\n",
       "<!-- Label Encoder -->\n",
       "<g id=\"node1\" class=\"node\">\n",
       "<title>Label Encoder</title>\n",
       "<polygon fill=\"none\" stroke=\"black\" points=\"72,-120 72,-166 205,-166 205,-120 72,-120\"/>\n",
       "<text text-anchor=\"middle\" x=\"138.5\" y=\"-150.8\" font-family=\"Times New Roman,serif\" font-size=\"14.00\">Label Encoder</text>\n",
       "<polyline fill=\"none\" stroke=\"black\" points=\"72,-143 205,-143 \"/>\n",
       "<text text-anchor=\"start\" x=\"80\" y=\"-127.8\" font-family=\"Times New Roman,serif\" font-size=\"14.00\">positive_label : None</text>\n",
       "</g>\n",
       "<!-- Replace Nullable Types Transformer -->\n",
       "<g id=\"node2\" class=\"node\">\n",
       "<title>Replace Nullable Types Transformer</title>\n",
       "<polygon fill=\"none\" stroke=\"black\" points=\"241,-93.5 241,-140.5 458,-140.5 458,-93.5 241,-93.5\"/>\n",
       "<text text-anchor=\"middle\" x=\"349.5\" y=\"-125.3\" font-family=\"Times New Roman,serif\" font-size=\"14.00\">Replace Nullable Types Transformer</text>\n",
       "<polyline fill=\"none\" stroke=\"black\" points=\"241,-117.5 458,-117.5 \"/>\n",
       "</g>\n",
       "<!-- Label Encoder&#45;&gt;Replace Nullable Types Transformer -->\n",
       "<g id=\"edge6\" class=\"edge\">\n",
       "<title>Label Encoder&#45;&gt;Replace Nullable Types Transformer</title>\n",
       "<path fill=\"none\" stroke=\"black\" stroke-dasharray=\"1,5\" d=\"M205.06,-134.84C213.32,-133.82 221.96,-132.74 230.73,-131.65\"/>\n",
       "<polygon fill=\"black\" stroke=\"black\" points=\"231.18,-135.12 240.67,-130.41 230.31,-128.18 231.18,-135.12\"/>\n",
       "</g>\n",
       "<!-- Imputer -->\n",
       "<g id=\"node3\" class=\"node\">\n",
       "<title>Imputer</title>\n",
       "<polygon fill=\"none\" stroke=\"black\" points=\"494,-101.5 494,-222.5 754,-222.5 754,-101.5 494,-101.5\"/>\n",
       "<text text-anchor=\"middle\" x=\"624\" y=\"-207.3\" font-family=\"Times New Roman,serif\" font-size=\"14.00\">Imputer</text>\n",
       "<polyline fill=\"none\" stroke=\"black\" points=\"494,-199.5 754,-199.5 \"/>\n",
       "<text text-anchor=\"start\" x=\"502\" y=\"-184.3\" font-family=\"Times New Roman,serif\" font-size=\"14.00\">categorical_impute_strategy : most_frequent</text>\n",
       "<text text-anchor=\"start\" x=\"502\" y=\"-169.3\" font-family=\"Times New Roman,serif\" font-size=\"14.00\">numeric_impute_strategy : mean</text>\n",
       "<text text-anchor=\"start\" x=\"502\" y=\"-154.3\" font-family=\"Times New Roman,serif\" font-size=\"14.00\">boolean_impute_strategy : most_frequent</text>\n",
       "<text text-anchor=\"start\" x=\"502\" y=\"-139.3\" font-family=\"Times New Roman,serif\" font-size=\"14.00\">categorical_fill_value : None</text>\n",
       "<text text-anchor=\"start\" x=\"502\" y=\"-124.3\" font-family=\"Times New Roman,serif\" font-size=\"14.00\">numeric_fill_value : None</text>\n",
       "<text text-anchor=\"start\" x=\"502\" y=\"-109.3\" font-family=\"Times New Roman,serif\" font-size=\"14.00\">boolean_fill_value : None</text>\n",
       "</g>\n",
       "<!-- Replace Nullable Types Transformer&#45;&gt;Imputer -->\n",
       "<g id=\"edge1\" class=\"edge\">\n",
       "<title>Replace Nullable Types Transformer&#45;&gt;Imputer</title>\n",
       "<path fill=\"none\" stroke=\"black\" d=\"M458.2,-128.17C466.65,-129.48 475.25,-130.86 483.86,-132.27\"/>\n",
       "<polygon fill=\"black\" stroke=\"black\" points=\"483.54,-135.77 493.98,-133.95 484.68,-128.86 483.54,-135.77\"/>\n",
       "</g>\n",
       "<!-- Replace Nullable Types Transformer&#45;&gt;Imputer -->\n",
       "<g id=\"edge7\" class=\"edge\">\n",
       "<title>Replace Nullable Types Transformer&#45;&gt;Imputer</title>\n",
       "<path fill=\"none\" stroke=\"black\" stroke-dasharray=\"1,5\" d=\"M453.13,-140.51C463.19,-142.29 473.52,-144.05 483.86,-145.77\"/>\n",
       "<polygon fill=\"black\" stroke=\"black\" points=\"483.34,-149.23 493.78,-147.4 484.48,-142.33 483.34,-149.23\"/>\n",
       "</g>\n",
       "<!-- Select Columns Transformer -->\n",
       "<g id=\"node4\" class=\"node\">\n",
       "<title>Select Columns Transformer</title>\n",
       "<polygon fill=\"none\" stroke=\"black\" points=\"790,-64 790,-110 1149,-110 1149,-64 790,-64\"/>\n",
       "<text text-anchor=\"middle\" x=\"969.5\" y=\"-94.8\" font-family=\"Times New Roman,serif\" font-size=\"14.00\">Select Columns Transformer</text>\n",
       "<polyline fill=\"none\" stroke=\"black\" points=\"790,-87 1149,-87 \"/>\n",
       "<text text-anchor=\"start\" x=\"798\" y=\"-71.8\" font-family=\"Times New Roman,serif\" font-size=\"14.00\">columns : [&#39;Glucose&#39;, &#39;BMI&#39;, &#39;DiabetesPedigreeFunction&#39;, &#39;Age&#39;]</text>\n",
       "</g>\n",
       "<!-- Replace Nullable Types Transformer&#45;&gt;Select Columns Transformer -->\n",
       "<g id=\"edge8\" class=\"edge\">\n",
       "<title>Replace Nullable Types Transformer&#45;&gt;Select Columns Transformer</title>\n",
       "<path fill=\"none\" stroke=\"black\" stroke-dasharray=\"1,5\" d=\"M458.38,-96.28C470.36,-94.55 482.42,-93.06 494,-92 587.81,-83.39 692.48,-81.48 779.6,-81.99\"/>\n",
       "<polygon fill=\"black\" stroke=\"black\" points=\"779.84,-85.49 789.87,-82.06 779.89,-78.49 779.84,-85.49\"/>\n",
       "</g>\n",
       "<!-- Extra Trees Classifier -->\n",
       "<g id=\"node5\" class=\"node\">\n",
       "<title>Extra Trees Classifier</title>\n",
       "<polygon fill=\"none\" stroke=\"black\" points=\"1185,-0.5 1185,-121.5 1378,-121.5 1378,-0.5 1185,-0.5\"/>\n",
       "<text text-anchor=\"middle\" x=\"1281.5\" y=\"-106.3\" font-family=\"Times New Roman,serif\" font-size=\"14.00\">Extra Trees Classifier</text>\n",
       "<polyline fill=\"none\" stroke=\"black\" points=\"1185,-98.5 1378,-98.5 \"/>\n",
       "<text text-anchor=\"start\" x=\"1193\" y=\"-83.3\" font-family=\"Times New Roman,serif\" font-size=\"14.00\">n_estimators : 100</text>\n",
       "<text text-anchor=\"start\" x=\"1193\" y=\"-68.3\" font-family=\"Times New Roman,serif\" font-size=\"14.00\">max_features : auto</text>\n",
       "<text text-anchor=\"start\" x=\"1193\" y=\"-53.3\" font-family=\"Times New Roman,serif\" font-size=\"14.00\">max_depth : 6</text>\n",
       "<text text-anchor=\"start\" x=\"1193\" y=\"-38.3\" font-family=\"Times New Roman,serif\" font-size=\"14.00\">min_samples_split : 2</text>\n",
       "<text text-anchor=\"start\" x=\"1193\" y=\"-23.3\" font-family=\"Times New Roman,serif\" font-size=\"14.00\">min_weight_fraction_leaf : 0.00</text>\n",
       "<text text-anchor=\"start\" x=\"1193\" y=\"-8.3\" font-family=\"Times New Roman,serif\" font-size=\"14.00\">n_jobs : &#45;1</text>\n",
       "</g>\n",
       "<!-- Replace Nullable Types Transformer&#45;&gt;Extra Trees Classifier -->\n",
       "<g id=\"edge9\" class=\"edge\">\n",
       "<title>Replace Nullable Types Transformer&#45;&gt;Extra Trees Classifier</title>\n",
       "<path fill=\"none\" stroke=\"black\" stroke-dasharray=\"1,5\" d=\"M426.99,-93.41C448.49,-87.55 472,-81.85 494,-78 734.51,-35.94 1022.64,-44.33 1174.61,-53.22\"/>\n",
       "<polygon fill=\"black\" stroke=\"black\" points=\"1174.68,-56.73 1184.87,-53.84 1175.09,-49.75 1174.68,-56.73\"/>\n",
       "</g>\n",
       "<!-- Imputer&#45;&gt;Select Columns Transformer -->\n",
       "<g id=\"edge2\" class=\"edge\">\n",
       "<title>Imputer&#45;&gt;Select Columns Transformer</title>\n",
       "<path fill=\"none\" stroke=\"black\" d=\"M754.37,-133.75C786.72,-126.69 821.21,-119.16 852.84,-112.25\"/>\n",
       "<polygon fill=\"black\" stroke=\"black\" points=\"853.98,-115.59 863.01,-110.03 852.49,-108.75 853.98,-115.59\"/>\n",
       "</g>\n",
       "<!-- Select Columns Transformer&#45;&gt;Extra Trees Classifier -->\n",
       "<g id=\"edge3\" class=\"edge\">\n",
       "<title>Select Columns Transformer&#45;&gt;Extra Trees Classifier</title>\n",
       "<path fill=\"none\" stroke=\"black\" d=\"M1149.03,-72.03C1157.74,-71.3 1166.35,-70.57 1174.74,-69.87\"/>\n",
       "<polygon fill=\"black\" stroke=\"black\" points=\"1175.19,-73.35 1184.86,-69.02 1174.6,-66.37 1175.19,-73.35\"/>\n",
       "</g>\n",
       "<!-- X -->\n",
       "<g id=\"node6\" class=\"node\">\n",
       "<title>X</title>\n",
       "<ellipse fill=\"none\" stroke=\"black\" cx=\"18\" cy=\"-91\" rx=\"18\" ry=\"18\"/>\n",
       "<text text-anchor=\"middle\" x=\"18\" y=\"-87.3\" font-family=\"Times New Roman,serif\" font-size=\"14.00\">X</text>\n",
       "</g>\n",
       "<!-- X&#45;&gt;Label Encoder -->\n",
       "<g id=\"edge4\" class=\"edge\">\n",
       "<title>X&#45;&gt;Label Encoder</title>\n",
       "<path fill=\"none\" stroke=\"black\" d=\"M34.98,-98.01C45.65,-102.7 60.44,-109.19 75.47,-115.78\"/>\n",
       "<polygon fill=\"black\" stroke=\"black\" points=\"74.27,-119.07 84.83,-119.89 77.08,-112.66 74.27,-119.07\"/>\n",
       "</g>\n",
       "<!-- X&#45;&gt;Replace Nullable Types Transformer -->\n",
       "<g id=\"edge5\" class=\"edge\">\n",
       "<title>X&#45;&gt;Replace Nullable Types Transformer</title>\n",
       "<path fill=\"none\" stroke=\"black\" d=\"M36.25,-92.36C72.23,-95.2 157.97,-101.97 230.51,-107.69\"/>\n",
       "<polygon fill=\"black\" stroke=\"black\" points=\"230.41,-111.19 240.65,-108.49 230.96,-104.21 230.41,-111.19\"/>\n",
       "</g>\n",
       "<!-- y -->\n",
       "<g id=\"node7\" class=\"node\">\n",
       "<title>y</title>\n",
       "<ellipse fill=\"none\" stroke=\"black\" cx=\"18\" cy=\"-145\" rx=\"18\" ry=\"18\"/>\n",
       "<text text-anchor=\"middle\" x=\"18\" y=\"-141.3\" font-family=\"Times New Roman,serif\" font-size=\"14.00\">y</text>\n",
       "</g>\n",
       "<!-- y&#45;&gt;Label Encoder -->\n",
       "<g id=\"edge10\" class=\"edge\">\n",
       "<title>y&#45;&gt;Label Encoder</title>\n",
       "<path fill=\"none\" stroke=\"black\" stroke-dasharray=\"1,5\" d=\"M36.23,-144.71C43.42,-144.59 52.32,-144.44 61.83,-144.28\"/>\n",
       "<polygon fill=\"black\" stroke=\"black\" points=\"61.98,-147.78 71.92,-144.11 61.86,-140.78 61.98,-147.78\"/>\n",
       "</g>\n",
       "</g>\n",
       "</svg>\n"
      ],
      "text/plain": [
       "<graphviz.graphs.Digraph at 0x2abbb3b3730>"
      ]
     },
     "execution_count": 21,
     "metadata": {},
     "output_type": "execute_result"
    }
   ],
   "source": [
    "best.graph()"
   ]
  },
  {
   "cell_type": "markdown",
   "id": "1b1b0c00",
   "metadata": {},
   "source": [
    "THE MODEL"
   ]
  },
  {
   "cell_type": "code",
   "execution_count": 31,
   "id": "273f404a",
   "metadata": {},
   "outputs": [
    {
     "data": {
      "text/plain": [
       "pipeline = BinaryClassificationPipeline(component_graph={'Label Encoder': ['Label Encoder', 'X', 'y'], 'Replace Nullable Types Transformer': ['Replace Nullable Types Transformer', 'X', 'Label Encoder.y'], 'Imputer': ['Imputer', 'Replace Nullable Types Transformer.x', 'Replace Nullable Types Transformer.y'], 'Select Columns Transformer': ['Select Columns Transformer', 'Imputer.x', 'Replace Nullable Types Transformer.y'], 'Extra Trees Classifier': ['Extra Trees Classifier', 'Select Columns Transformer.x', 'Replace Nullable Types Transformer.y']}, parameters={'Label Encoder':{'positive_label': None}, 'Imputer':{'categorical_impute_strategy': 'most_frequent', 'numeric_impute_strategy': 'mean', 'boolean_impute_strategy': 'most_frequent', 'categorical_fill_value': None, 'numeric_fill_value': None, 'boolean_fill_value': None}, 'Select Columns Transformer':{'columns': ['Glucose', 'BMI', 'DiabetesPedigreeFunction', 'Age']}, 'Extra Trees Classifier':{'n_estimators': 100, 'max_features': 'auto', 'max_depth': 6, 'min_samples_split': 2, 'min_weight_fraction_leaf': 0.0, 'n_jobs': -1}}, random_seed=0)"
      ]
     },
     "execution_count": 31,
     "metadata": {},
     "output_type": "execute_result"
    }
   ],
   "source": [
    "model=best\n",
    "model.fit(xtrain,ytrain)"
   ]
  },
  {
   "cell_type": "code",
   "execution_count": 32,
   "id": "2a41d05b",
   "metadata": {},
   "outputs": [],
   "source": [
    "predd=model.predict(xtest)"
   ]
  },
  {
   "cell_type": "markdown",
   "id": "117fc1e0",
   "metadata": {},
   "source": [
    "Evaluation Metrics"
   ]
  },
  {
   "cell_type": "code",
   "execution_count": 34,
   "id": "bf5e09bb",
   "metadata": {},
   "outputs": [
    {
     "name": "stdout",
     "output_type": "stream",
     "text": [
      "Accuracy score:  0.7987012987012987\n"
     ]
    }
   ],
   "source": [
    "print('Accuracy score: ',accuracy_score(ytest,predd))"
   ]
  },
  {
   "cell_type": "code",
   "execution_count": 36,
   "id": "61ceade7",
   "metadata": {},
   "outputs": [
    {
     "data": {
      "image/png": "[encoded data removed]",
      "text/plain": [
       "<Figure size 432x288 with 2 Axes>"
      ]
     },
     "metadata": {
      "needs_background": "light"
     },
     "output_type": "display_data"
    }
   ],
   "source": [
    "mat=confusion_matrix(ytest,predd)\n",
    "sns.heatmap(mat,annot=True,fmt='d',xticklabels=['LowRisk','HighRisk'],yticklabels=['LowRisk','HighRisk']);"
   ]
  },
  {
   "cell_type": "code",
   "execution_count": 37,
   "id": "92eb521a",
   "metadata": {},
   "outputs": [
    {
     "name": "stdout",
     "output_type": "stream",
     "text": [
      "              precision    recall  f1-score   support\n",
      "\n",
      "           0       0.88      0.80      0.84       100\n",
      "           1       0.68      0.80      0.74        54\n",
      "\n",
      "    accuracy                           0.80       154\n",
      "   macro avg       0.78      0.80      0.79       154\n",
      "weighted avg       0.81      0.80      0.80       154\n",
      "\n"
     ]
    }
   ],
   "source": [
    "print(classification_report(ytest,predd))"
   ]
  }
 ],
 "metadata": {
  "kernelspec": {
   "display_name": "Python 3 (ipykernel)",
   "language": "python",
   "name": "python3"
  },
  "language_info": {
   "codemirror_mode": {
    "name": "ipython",
    "version": 3
   },
   "file_extension": ".py",
   "mimetype": "text/x-python",
   "name": "python",
   "nbconvert_exporter": "python",
   "pygments_lexer": "ipython3",
   "version": "3.9.12"
  }
 },
 "nbformat": 4,
 "nbformat_minor": 5
}
